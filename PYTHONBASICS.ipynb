{
  "nbformat": 4,
  "nbformat_minor": 0,
  "metadata": {
    "colab": {
      "provenance": []
    },
    "kernelspec": {
      "name": "python3",
      "display_name": "Python 3"
    },
    "language_info": {
      "name": "python"
    }
  },
  "cells": [
    {
      "cell_type": "markdown",
      "source": [
        "# PYTHON BASIC- Questions"
      ],
      "metadata": {
        "id": "1oxRiQHGDxEq"
      }
    },
    {
      "cell_type": "markdown",
      "source": [
        "1.  What is Python, and why is it popular ?\n",
        "  \n",
        "\n",
        "*  Python is an interpreted programming language which is used for developing websites, software,data analysis, machine learning and data visualization. It supports object-oriented programming principles.\n",
        "*  Python is popular due to following aspects:-  \n",
        "    i. It has simple syntax with an emphasis on normal languages, for much easy to be learned by beginners.\n",
        "\n",
        "    ii. Python is free to use and is supported by a rich collection of libraries and framework that make it feasible for developers to solve complex problems more effetively.\n",
        "\n",
        "    iii. Python is in high demand across various industries,making it a valuable skill for career growth.\n",
        "\n",
        "    iv. increasing demand in data science and machine learning, revolutionizing how data being analyzed.\n",
        "\n"
      ],
      "metadata": {
        "id": "vHKD-QyKD6tH"
      }
    },
    {
      "cell_type": "markdown",
      "source": [
        "2. What is an interpreter in Python  ?\n",
        "  \n",
        "\n",
        "*   A python interpreter is a computer program that takes the code and converts it into machine code. It translates the written code into instructions that the computer can understand, while executing them line be line.\n",
        "\n",
        "\n"
      ],
      "metadata": {
        "id": "duokcrw6EU3l"
      }
    },
    {
      "cell_type": "code",
      "source": [
        "#3 What are pre-defined keywords in Python ?\n",
        "'''\n",
        "Pre-defined keywords are some reserve words that plays a special role in python programming.\n",
        "import keyword\n",
        "print(keyword.kwlist, end=\" \")\n",
        "\n",
        "\n",
        "\n"
      ],
      "metadata": {
        "colab": {
          "base_uri": "https://localhost:8080/"
        },
        "id": "-EprTJEnL-2y",
        "outputId": "faa3f0e1-f4a5-4a04-dc8e-e3eaa4e2c595"
      },
      "execution_count": null,
      "outputs": [
        {
          "output_type": "stream",
          "name": "stdout",
          "text": [
            "['False', 'None', 'True', 'and', 'as', 'assert', 'async', 'await', 'break', 'class', 'continue', 'def', 'del', 'elif', 'else', 'except', 'finally', 'for', 'from', 'global', 'if', 'import', 'in', 'is', 'lambda', 'nonlocal', 'not', 'or', 'pass', 'raise', 'return', 'try', 'while', 'with', 'yield'] \n"
          ]
        }
      ]
    },
    {
      "cell_type": "markdown",
      "source": [
        "4. Can keywords be used as variable names?\n",
        "\n",
        "\n",
        "*   No, it cannot be used as variable name. As keywords are used to define the structure and logic of the code. therefore, it will show a syntax eror.\n",
        "\n",
        "\n",
        "\n",
        "\n"
      ],
      "metadata": {
        "id": "djZgQjU2Kg8y"
      }
    },
    {
      "cell_type": "markdown",
      "source": [
        "5.  What is mutability in Python ?\n",
        "\n",
        "\n",
        "*   those data type which can be modified and display the new value is called mutable object.thus, the process of its ability is called mutability.\n",
        "for ex. Lists is a type of mutable object.\n",
        "*  for example:  Lists, dictionaries & sets are the types of mutable objects.\n",
        "\n"
      ],
      "metadata": {
        "id": "Rcrbi8CENvMl"
      }
    },
    {
      "cell_type": "markdown",
      "source": [
        "6. Why are lists mutable, but tuples are immutable ?\n",
        "\n",
        "\n",
        "*   List:\n",
        "\n",
        " i. It supports item assignment, which means the value or state can be changed after it is created.\n",
        "\n",
        "*  Tuples:\n",
        "\n",
        " i. It doesn't support item assignment, which means its value or state can't be cjanged after it is created.\n",
        "\n",
        "\n"
      ],
      "metadata": {
        "id": "pa641WMuPVVi"
      }
    },
    {
      "cell_type": "markdown",
      "source": [
        "7. What is the difference between “==” and “is” operators in Python  ?\n",
        "\n",
        "\n",
        "\n",
        "*  \" ==\" : It is a type of comparison operator, called equality comparison.\n",
        "           It checks the compared values are equal with each other.\n",
        "           for example: 2==2 ( true)\n",
        "* \"is\" : It is a type of comparison operator, called identity comparison.\n",
        "         It compares the same object of two variables.\n",
        "         it aslo, compares the memory address of two variables.\n",
        "         for example: a=2, b=a, then a is b will gives true.\n",
        "         \n",
        "\n"
      ],
      "metadata": {
        "id": "knXLt7ECRNFA"
      }
    },
    {
      "cell_type": "markdown",
      "source": [
        "8. What are logical operators in Python ?\n",
        "\n",
        "\n",
        "*   Python has three Logical operators: AND, OR & NOT. these operators, also called boolean operators evaluate multiple conditions and provides an expressions overall truth value.\n",
        "The binary logic : 0 & 1.\n",
        "\n",
        "*  T & T = T  \n",
        "\n",
        "   T & F = F\n",
        "\n",
        "   F & T = F\n",
        "   \n",
        "   F & F = F\n",
        "\n"
      ],
      "metadata": {
        "id": "xxwD8T19S-i5"
      }
    },
    {
      "cell_type": "code",
      "source": [
        "#9 What is type casting in Python ?\n",
        "\n",
        "\"\"\"\n",
        "It is the process of changing the data type of a value/object from\n",
        "one to another,so that while executing using operators,\n",
        "these can't be mismatch.\n",
        "\n",
        "\"\"\"\n",
        "\n",
        "a = 2  # int\n",
        "b =\"b\" # string\n",
        "# a+b # gives type error\n",
        "a = 2\n",
        "b = 3\n",
        "a+b gives 5\n"
      ],
      "metadata": {
        "colab": {
          "base_uri": "https://localhost:8080/"
        },
        "id": "rpYYs2eNU-9i",
        "outputId": "607cad9e-8bbf-4b25-beca-907430ab0de4"
      },
      "execution_count": null,
      "outputs": [
        {
          "output_type": "execute_result",
          "data": {
            "text/plain": [
              "5"
            ]
          },
          "metadata": {},
          "execution_count": 6
        }
      ]
    },
    {
      "cell_type": "code",
      "source": [
        "#10 What is the difference between implicit and explicit type casting ?\n",
        "\"\"\"\n",
        "Implicit type casting\n",
        "1. it is done automatically by the python as it understands the standard of data types without any user instructions.\n",
        "2. it is used usually when execution has to be done in different data types.\n",
        "\"\"\"\n",
        "\n",
        "a = 23\n",
        "b = 15.5\n",
        "Impl_sum = a+b\n",
        "print(\"Implicit value\", Impl_sum)\n",
        "\n",
        "\"\"\"\n",
        "Explicit type casting\n",
        "1. In this type, user has to manually specify  the data type converting the inbuilt functions.\n",
        "2. It is used when the execution cannot be done automatically.\n",
        "\"\"\"\n",
        "x = 13.5\n",
        "y = 10\n",
        "Expl_sum = int(x) + y # manually specified the data type of x from float to int.\n",
        "print(\"Explicit value\", Expl_sum)\n",
        "\n"
      ],
      "metadata": {
        "colab": {
          "base_uri": "https://localhost:8080/"
        },
        "id": "_-cvd0AaWyyz",
        "outputId": "5c04b635-fd6b-41f4-f7bb-d86147383aef"
      },
      "execution_count": null,
      "outputs": [
        {
          "output_type": "stream",
          "name": "stdout",
          "text": [
            "Implicit value 38.5\n",
            "Explicit value 23\n"
          ]
        }
      ]
    },
    {
      "cell_type": "code",
      "source": [],
      "metadata": {
        "id": "-NgGvqaZdEHJ"
      },
      "execution_count": null,
      "outputs": []
    },
    {
      "cell_type": "markdown",
      "source": [
        "11. What is the purpose of conditional statements in Python ?\n",
        "\n",
        "\n",
        "*   It allow a program to make decisions based on some precondtions. it evaluate the codes and determine which code to run next.\n",
        "\n",
        "*  They control the order in which instructions are executed.\n",
        "\n",
        "\n",
        "*  it can be used to catch and handle error.\n",
        "\n",
        "\n",
        "\n",
        "\n",
        "\n"
      ],
      "metadata": {
        "id": "FMwpWiVMdM_7"
      }
    },
    {
      "cell_type": "markdown",
      "source": [
        "12.  How does the elif statement work ?\n",
        "\n",
        "  Ans> The elif statement is used to check multiple consitions in a sequence. it evaluate the code, as per the inital if condition put.\n",
        "\n",
        "for example:\n",
        "\n",
        "x =15\n",
        "if x>20:\n",
        "\n",
        "print( \" x is greater than 20\")\n",
        "\n",
        "elif x > 10:\n",
        "\n",
        "print( \" x is greater than 10 but not greater than 20\")\n",
        "\n",
        "elif x>5:\n",
        "\n",
        "print (\" x is greater than 5 & 10\")\n",
        "\n",
        "else\n",
        "\n",
        "print(\"\")\n"
      ],
      "metadata": {
        "id": "qMQzbo6JeX2G"
      }
    },
    {
      "cell_type": "markdown",
      "source": [
        "13. What is the difference between for and while loops ?\n",
        "\n",
        "ans> for loop:\n",
        "         \n",
        "         1. It is a control statement that execute code repeatedly for a particular iteration.\n",
        "         \n",
        "         2. it is used when the number of iteration is already known.\n",
        "\n",
        "         3. keyword (for) is used.\n",
        "\n",
        "         4. If the condition is not mentioned then, loop runs infinitely.\n",
        "\n",
        "    While loop:\n",
        "         \n",
        "         1. It is a control statement that executes a single statement or a group of statements for the given true condition.\n",
        "\n",
        "         2. it is used when the number of iteration is unknown.\n",
        "\n",
        "         3. If the condition is not mentoned then, it will show error. therefore, condition is mandate.\n",
        "\n",
        "         4. keyword (while) is used.\n",
        "         "
      ],
      "metadata": {
        "id": "6-cXlqiogMZk"
      }
    },
    {
      "cell_type": "markdown",
      "source": [
        "14.  Describe a scenario where a while loop is more suitable than a for loop ?\n",
        "\n",
        "ans>   In such scenerio where the condition has to be mentioned to keep the iteration flow, until the user enters exit. it will run the iteration ass lons as user will put the inputs.\n"
      ],
      "metadata": {
        "id": "jFkCBiV4inuI"
      }
    },
    {
      "cell_type": "markdown",
      "source": [
        "# **PRACTICAL** **QUESTIONS**"
      ],
      "metadata": {
        "id": "E7j1cnDPkyoY"
      }
    },
    {
      "cell_type": "code",
      "source": [
        "#1 Write a Python program to print \"Hello, World!\"\n",
        "\n",
        "print(\"Hello, World!\")\n"
      ],
      "metadata": {
        "colab": {
          "base_uri": "https://localhost:8080/"
        },
        "id": "HtVBhhSH4Xt8",
        "outputId": "6ea51ad1-4def-41c7-db8f-90d0527cd111"
      },
      "execution_count": null,
      "outputs": [
        {
          "output_type": "stream",
          "name": "stdout",
          "text": [
            "Hello, World!\n"
          ]
        }
      ]
    },
    {
      "cell_type": "code",
      "source": [
        " #2 Write a Python program that displays your name and age ?\n",
        "\n",
        " Name = \"Pinki Rai\"\n",
        " Age = 24\n",
        " print(f\"My name is {Name} & I am {Age} years old\")"
      ],
      "metadata": {
        "colab": {
          "base_uri": "https://localhost:8080/"
        },
        "id": "-Brg9OqW5EXr",
        "outputId": "4f5a7224-51d9-4c79-f53d-793ef9a96fd9"
      },
      "execution_count": null,
      "outputs": [
        {
          "output_type": "stream",
          "name": "stdout",
          "text": [
            "My name is Pinki Rai & I am 24 years old\n"
          ]
        }
      ]
    },
    {
      "cell_type": "code",
      "source": [
        "#3 Write code to print all the pre-defined keywords in Python using the keyword library  ?\n",
        "\n",
        "import keyword\n",
        "print(keyword.kwlist)\n"
      ],
      "metadata": {
        "colab": {
          "base_uri": "https://localhost:8080/"
        },
        "id": "WxUnGhxb5jvL",
        "outputId": "9ab5c810-e59b-4bc9-98a0-9f84febe201e"
      },
      "execution_count": null,
      "outputs": [
        {
          "output_type": "stream",
          "name": "stdout",
          "text": [
            "['False', 'None', 'True', 'and', 'as', 'assert', 'async', 'await', 'break', 'class', 'continue', 'def', 'del', 'elif', 'else', 'except', 'finally', 'for', 'from', 'global', 'if', 'import', 'in', 'is', 'lambda', 'nonlocal', 'not', 'or', 'pass', 'raise', 'return', 'try', 'while', 'with', 'yield']\n"
          ]
        }
      ]
    },
    {
      "cell_type": "code",
      "source": [
        "#4 Write a program that checks if a given word is a Python keyword ?\n",
        "\n",
        "import keyword\n",
        "Word = input(\"Enter a word\")\n",
        "if keyword.iskeyword(Word):\n",
        "  print(f\"{Word} is a Python keyword\")\n",
        "else:\n",
        "  print(\"Error!\")\n"
      ],
      "metadata": {
        "colab": {
          "base_uri": "https://localhost:8080/"
        },
        "id": "MI2fWBXX6UG4",
        "outputId": "9fb896c6-1224-4928-8701-d22c6125bc10"
      },
      "execution_count": null,
      "outputs": [
        {
          "output_type": "stream",
          "name": "stdout",
          "text": [
            "Enter a wordwhile\n",
            "while is a Python keyword\n"
          ]
        }
      ]
    },
    {
      "cell_type": "code",
      "source": [
        "#5  Create a list and tuple in Python, and demonstrate how attempting to change an element works differently for each ?\n",
        "\n",
        "Fruit_list = [\"Apple\", \"Banana\", \"Mango\", \"Grapes\"]\n",
        "print(\"The original Fruit List is:\", Fruit_list) # the Original list\n",
        "print()\n",
        "Fruit_list[2] = \"Guava\"\n",
        "print(f\"The modified Fruit list are as follows:{Fruit_list}\")\n"
      ],
      "metadata": {
        "colab": {
          "base_uri": "https://localhost:8080/"
        },
        "id": "E-ZRvhWD82cF",
        "outputId": "c5d6ea4b-2a61-4eea-e796-70ce5f63674c"
      },
      "execution_count": 141,
      "outputs": [
        {
          "output_type": "stream",
          "name": "stdout",
          "text": [
            "The original Fruit List is: ['Apple', 'Banana', 'Mango', 'Grapes']\n",
            "\n",
            "The modified Fruit list are as follows:['Apple', 'Banana', 'Guava', 'Grapes']\n"
          ]
        }
      ]
    },
    {
      "cell_type": "code",
      "source": [
        "#5  Create a list and tuple in Python, and demonstrate how attempting to change an element works differently for each ?\n",
        "Fruit_tuple = (\"Apple\", \"Banana\", \"Mango\", \"Grapes\")\n",
        "Fruit_tuple[2] = \"Guava\"\n",
        "print(f\"The modified Fruit tuple are as follows:{Fruit_tuple}\")"
      ],
      "metadata": {
        "colab": {
          "base_uri": "https://localhost:8080/",
          "height": 193
        },
        "id": "Ixe_BgPA-bLP",
        "outputId": "e989e486-bda1-4cb8-a00d-e2a7bce98f90"
      },
      "execution_count": null,
      "outputs": [
        {
          "output_type": "error",
          "ename": "TypeError",
          "evalue": "'tuple' object does not support item assignment",
          "traceback": [
            "\u001b[0;31m---------------------------------------------------------------------------\u001b[0m",
            "\u001b[0;31mTypeError\u001b[0m                                 Traceback (most recent call last)",
            "\u001b[0;32m<ipython-input-18-cadd5610984e>\u001b[0m in \u001b[0;36m<cell line: 0>\u001b[0;34m()\u001b[0m\n\u001b[1;32m      1\u001b[0m \u001b[0;31m#5  Create a list and tuple in Python, and demonstrate how attempting to change an element works differently for each ?\u001b[0m\u001b[0;34m\u001b[0m\u001b[0;34m\u001b[0m\u001b[0m\n\u001b[1;32m      2\u001b[0m \u001b[0mFruit_tuple\u001b[0m \u001b[0;34m=\u001b[0m \u001b[0;34m(\u001b[0m\u001b[0;34m\"Apple\"\u001b[0m\u001b[0;34m,\u001b[0m \u001b[0;34m\"Banana\"\u001b[0m\u001b[0;34m,\u001b[0m \u001b[0;34m\"Mango\"\u001b[0m\u001b[0;34m,\u001b[0m \u001b[0;34m\"Grapes\"\u001b[0m\u001b[0;34m)\u001b[0m\u001b[0;34m\u001b[0m\u001b[0;34m\u001b[0m\u001b[0m\n\u001b[0;32m----> 3\u001b[0;31m \u001b[0mFruit_tuple\u001b[0m\u001b[0;34m[\u001b[0m\u001b[0;36m2\u001b[0m\u001b[0;34m]\u001b[0m \u001b[0;34m=\u001b[0m \u001b[0;34m\"Guava\"\u001b[0m\u001b[0;34m\u001b[0m\u001b[0;34m\u001b[0m\u001b[0m\n\u001b[0m\u001b[1;32m      4\u001b[0m \u001b[0mprint\u001b[0m\u001b[0;34m(\u001b[0m\u001b[0;34mf\"The modified Fruit tuple are as follows:{Fruit_tuple}\"\u001b[0m\u001b[0;34m)\u001b[0m\u001b[0;34m\u001b[0m\u001b[0;34m\u001b[0m\u001b[0m\n",
            "\u001b[0;31mTypeError\u001b[0m: 'tuple' object does not support item assignment"
          ]
        }
      ]
    },
    {
      "cell_type": "code",
      "source": [
        "#6 Write a function to demonstrate the behavior of mutable and immutable arguments. ?\n",
        "\n",
        "\"\"\" List, Dictionaries shows mutable agruments \"\"\"\n",
        "List_A =[99,12,12,12,12,12]\n",
        "print(\"The original List is:\", List_A)\n",
        "print()\n",
        "List_A[3] = 99 # mutable argument\n",
        "print(\"The list after mutability process:\", List_A)\n",
        "print()\n",
        "\n",
        "String_X = \"Pinki\"\n",
        "String_X[3] = \"i\" # immutable argument\n",
        "print(String_X)"
      ],
      "metadata": {
        "colab": {
          "base_uri": "https://localhost:8080/",
          "height": 263
        },
        "id": "OcaxHXD8Blz3",
        "outputId": "3cfbebf3-5878-4439-a56b-73c6207336b1"
      },
      "execution_count": 143,
      "outputs": [
        {
          "output_type": "stream",
          "name": "stdout",
          "text": [
            "The original List is: [99, 12, 12, 12, 12, 12]\n",
            "\n",
            "The list after mutability process: [99, 12, 12, 99, 12, 12]\n",
            "\n"
          ]
        },
        {
          "output_type": "error",
          "ename": "TypeError",
          "evalue": "'str' object does not support item assignment",
          "traceback": [
            "\u001b[0;31m---------------------------------------------------------------------------\u001b[0m",
            "\u001b[0;31mTypeError\u001b[0m                                 Traceback (most recent call last)",
            "\u001b[0;32m<ipython-input-143-5f25c55ad291>\u001b[0m in \u001b[0;36m<cell line: 0>\u001b[0;34m()\u001b[0m\n\u001b[1;32m     10\u001b[0m \u001b[0;34m\u001b[0m\u001b[0m\n\u001b[1;32m     11\u001b[0m \u001b[0mString_X\u001b[0m \u001b[0;34m=\u001b[0m \u001b[0;34m\"Pinki\"\u001b[0m\u001b[0;34m\u001b[0m\u001b[0;34m\u001b[0m\u001b[0m\n\u001b[0;32m---> 12\u001b[0;31m \u001b[0mString_X\u001b[0m\u001b[0;34m[\u001b[0m\u001b[0;36m3\u001b[0m\u001b[0;34m]\u001b[0m \u001b[0;34m=\u001b[0m \u001b[0;34m\"i\"\u001b[0m \u001b[0;31m# immutable argument\u001b[0m\u001b[0;34m\u001b[0m\u001b[0;34m\u001b[0m\u001b[0m\n\u001b[0m\u001b[1;32m     13\u001b[0m \u001b[0mprint\u001b[0m\u001b[0;34m(\u001b[0m\u001b[0mString_X\u001b[0m\u001b[0;34m)\u001b[0m\u001b[0;34m\u001b[0m\u001b[0;34m\u001b[0m\u001b[0m\n",
            "\u001b[0;31mTypeError\u001b[0m: 'str' object does not support item assignment"
          ]
        }
      ]
    },
    {
      "cell_type": "code",
      "source": [
        "#7  Write a program that performs basic arithmetic operations on two user-input numbers ?\n",
        "\n",
        "Length = input(\"Enter the Length\")\n",
        "Breadth =input(\"Enter the Breadth\")\n",
        "Area = int(Length) * int(Breadth)\n",
        "perimeter = int(Length) + int(Breadth)\n",
        "print()\n",
        "print(f\"The area of the rectangle is {Area} & The perimeter of the same rectangle is: {perimeter}\")\n",
        "\n",
        "\n"
      ],
      "metadata": {
        "id": "ohEcAmZICRzv",
        "colab": {
          "base_uri": "https://localhost:8080/"
        },
        "outputId": "6cd6cdc7-dfab-4287-d5c6-04195b9f46ae"
      },
      "execution_count": 144,
      "outputs": [
        {
          "output_type": "stream",
          "name": "stdout",
          "text": [
            "Enter the Length15\n",
            "Enter the Breadth12\n",
            "\n",
            "The area of the rectangle is 180 & The perimeter of the same rectangle is: 27\n"
          ]
        }
      ]
    },
    {
      "cell_type": "code",
      "source": [
        "#8 Write a program to demonstrate the use of logical operators ?\n",
        "\n",
        "\"\"\"1. AND Operator \"\"\"\n",
        "\n",
        "age = input(\"Enter your age\")\n",
        "if int(age)>12 and int(age)<20: # typecasting\n",
        " print(f\"{age} Okay! you come under a teenager category\")\n",
        "else:\n",
        "  print(f\"{age} you doesn't belong to teenage category\")\n",
        "print()\n",
        "\n",
        "\"\"\" 2. OR Operator \"\"\"\n",
        "\n",
        "Health= input(\"How you are feeling\")\n",
        "if Health==\"energetic\" or Health==\"Energetic\":\n",
        "  print(f\"{Health}You are feeling very refreshing\")\n",
        "elif Health== \"fine\":\n",
        "  print(f\"{Health}!Ohh Okay\")\n",
        "else:\n",
        "  print(f\"{Health}! You must take rest\")\n",
        "print()\n",
        "\n",
        "\"\"\" 3. NOT Operator \"\"\"\n",
        "Val_x = int(input(\"Enter a number\"))\n",
        "Val_y = int(input(\"Enter a number\"))\n",
        "if 10 > Val_x > Val_y:\n",
        "  print(\"True\")\n",
        "if not(10 > Val_x > Val_y):\n",
        "  print(\"False\")\n",
        "print()\n",
        "\n",
        "\"\"\" 4. boolean Operator \"\"\"\n",
        "\n",
        "print(\"The given code will display\", bool(0))\n",
        "print(\"The given code will display\", bool(-1))\n",
        "\n",
        "\n",
        "\n",
        "\n",
        "\n",
        "\n"
      ],
      "metadata": {
        "id": "uPIiSiimC3Jn",
        "colab": {
          "base_uri": "https://localhost:8080/"
        },
        "outputId": "c37f5fc6-83a2-4b70-8f04-03120cf88397"
      },
      "execution_count": 147,
      "outputs": [
        {
          "output_type": "stream",
          "name": "stdout",
          "text": [
            "Enter your age17\n",
            "17 Okay! you come under a teenager category\n",
            "\n",
            "How you are feelingfine\n",
            "fine!Ohh Okay\n",
            "\n",
            "Enter a number9\n",
            "Enter a number10\n",
            "False\n",
            "\n",
            "The given code will display False\n",
            "The given code will display True\n"
          ]
        }
      ]
    },
    {
      "cell_type": "code",
      "source": [
        "#9 Write a Python program to convert user input from string to integer, float, and boolean types ?\n",
        "\n",
        "Topic =input()\n",
        "print(\"The type of the input is\", type(Topic))\n",
        "Topic = int(Topic)\n",
        "print(\"The type has been changed from string to integer type:\", Topic)\n",
        "Topic = float(Topic)\n",
        "print(\"The type has been changed from string to float type:\", Topic)\n",
        "Topic = bool(Topic)\n",
        "print(\"The type has been changed from string to boolean type:\", Topic)"
      ],
      "metadata": {
        "id": "NYPuqpEQDCLL",
        "colab": {
          "base_uri": "https://localhost:8080/"
        },
        "outputId": "feca320b-eec8-4659-ae15-1d996589102f"
      },
      "execution_count": null,
      "outputs": [
        {
          "output_type": "stream",
          "name": "stdout",
          "text": [
            "0011\n",
            "The type of the input is <class 'str'>\n",
            "The type has been changed from string to integer type: 11\n",
            "The type has been changed from string to float type: 11.0\n",
            "The type has been changed from string to boolean type: True\n"
          ]
        }
      ]
    },
    {
      "cell_type": "code",
      "source": [
        "#10  Write code to demonstrate type casting with list elements ?\n",
        "\n",
        "List_Prime = [\"2\",\"3\", \"5\",\"7\",\"11\",\"13\"]\n",
        "print(\"The datatype of item inside the List_Prime is\", type(List_Prime[0]))\n",
        "print()\n",
        "Modified_Prime = [int(i) for i in List_Prime] # on list elemenets basis\n",
        "print(\"The typecasting from string to Integer type\", Modified_Prime)\n",
        "print(\"The datatype of thet item inside the Modified_Prime is\", type(Modified_Prime[0]))\n",
        "print()\n",
        "New_Prime = [float(i) for i in Modified_Prime]\n",
        "print(\"The typecasting from Integer to Float type\", New_Prime)\n",
        "print(\"The datatype of thet item inside the New_Prime is\", type(New_Prime[0]))\n",
        "print()\n"
      ],
      "metadata": {
        "id": "8FHcbeZWWTqx",
        "colab": {
          "base_uri": "https://localhost:8080/"
        },
        "outputId": "278f5619-690f-404d-f529-7117b16b3d6f"
      },
      "execution_count": 148,
      "outputs": [
        {
          "output_type": "stream",
          "name": "stdout",
          "text": [
            "The datatype of item inside the List_Prime is <class 'str'>\n",
            "\n",
            "The typecasting from string to Integer type [2, 3, 5, 7, 11, 13]\n",
            "The datatype of thet item inside the Modified_Prime is <class 'int'>\n",
            "\n",
            "The typecasting from Integer to Float type [2.0, 3.0, 5.0, 7.0, 11.0, 13.0]\n",
            "The datatype of thet item inside the New_Prime is <class 'float'>\n",
            "\n"
          ]
        }
      ]
    },
    {
      "cell_type": "code",
      "source": [
        "#11 Write a program that checks if a number is positive, negative, or zero ?\n",
        "Num = input(\"Enter a Number:\" )\n",
        "if int(Num)>0:\n",
        "  print(f\"{Num} is a positive number\")\n",
        "elif int(Num)<0:\n",
        "  print(f\"{Num} is a negative number\")\n",
        "else:\n",
        "  print(f\"{Num} is zero\")\n",
        "\n",
        "\n"
      ],
      "metadata": {
        "colab": {
          "base_uri": "https://localhost:8080/"
        },
        "id": "mzPswn9saBP2",
        "outputId": "83bba188-63eb-4259-a6a2-dcce70cfb8ec"
      },
      "execution_count": 78,
      "outputs": [
        {
          "output_type": "stream",
          "name": "stdout",
          "text": [
            "Enter a Number:-33\n",
            "-33 is a negative number\n"
          ]
        }
      ]
    },
    {
      "cell_type": "code",
      "source": [
        "#12  Write a for loop to print numbers from 1 to 10 ?\n",
        "\n",
        "for i in range(1,11):\n",
        " print(\"No.\", i)"
      ],
      "metadata": {
        "colab": {
          "base_uri": "https://localhost:8080/"
        },
        "id": "oVfHEVpmafR5",
        "outputId": "27f2455e-ea28-4f3a-9a1f-4c75df7a6b24"
      },
      "execution_count": 84,
      "outputs": [
        {
          "output_type": "stream",
          "name": "stdout",
          "text": [
            "No. 1\n",
            "No. 2\n",
            "No. 3\n",
            "No. 4\n",
            "No. 5\n",
            "No. 6\n",
            "No. 7\n",
            "No. 8\n",
            "No. 9\n",
            "No. 10\n"
          ]
        }
      ]
    },
    {
      "cell_type": "code",
      "source": [
        "#13 Write a Python program to find the sum of all even numbers between 1 and 50 ?\n",
        "Even_sum = 0\n",
        "for Num in range(1,51,2):\n",
        " Num=1\n",
        "while Num<51:\n",
        "  if Num%2==0:\n",
        "    Even_sum=Even_sum+Num\n",
        "  Num=Num+1\n",
        "print(\"The sum of all even numbers between 1 & 50 is:\", Even_sum)\n",
        "\n",
        "\n",
        "\n"
      ],
      "metadata": {
        "colab": {
          "base_uri": "https://localhost:8080/"
        },
        "id": "y3h1Rco3bEqH",
        "outputId": "48c48867-3f5e-4a09-fd40-80d80ba6f348"
      },
      "execution_count": 93,
      "outputs": [
        {
          "output_type": "stream",
          "name": "stdout",
          "text": [
            "The sum of all even numbers between 1 & 50 is: 650\n"
          ]
        }
      ]
    },
    {
      "cell_type": "code",
      "source": [
        "#14 Write a program to reverse a string using a while loop ?\n",
        "\n",
        "Text = input(\"Enter a String\")\n",
        "print(\"The reverse string is:\", Text[::-1])"
      ],
      "metadata": {
        "colab": {
          "base_uri": "https://localhost:8080/"
        },
        "id": "KLNP6MY2eqoE",
        "outputId": "e49acde2-0d14-4560-9471-42fba1dc40ab"
      },
      "execution_count": 97,
      "outputs": [
        {
          "output_type": "stream",
          "name": "stdout",
          "text": [
            "Enter a String Mother\n",
            "The reverse string is: rehtoM \n"
          ]
        }
      ]
    },
    {
      "cell_type": "code",
      "source": [
        "#15 Write a Python program to calculate the factorial of a number provided by the user using a while loop ?\n",
        "\n",
        "\n",
        "\n",
        "Num_fact =int(input(\"Enter a Number\"))\n",
        "if Num_fact<0:\n",
        "  print(\"Factorial doesn't exist\")\n",
        "elif Num_fact==0:\n",
        "  print(\"The factorial of '0' is 1.\")\n",
        "elif Num_fact>15:\n",
        "    print(\"You have entered beyond the limit\")\n",
        "\n",
        "else:\n",
        "  Factorial = 1\n",
        "  while 15>Num_fact>1:\n",
        "    Factorial *= Num_fact\n",
        "    Num_fact -=1\n",
        "  print(\"The factorial of given number is:\", Factorial)\n",
        "\n",
        "\n",
        "\n",
        "\n"
      ],
      "metadata": {
        "colab": {
          "base_uri": "https://localhost:8080/"
        },
        "id": "jbuH_KkKfqbw",
        "outputId": "ebac3574-974f-4c0a-ddcb-0f39d2b64ad3"
      },
      "execution_count": 134,
      "outputs": [
        {
          "output_type": "stream",
          "name": "stdout",
          "text": [
            "Enter a Number6\n",
            "The factorial of given number is: 720\n"
          ]
        }
      ]
    }
  ]
}